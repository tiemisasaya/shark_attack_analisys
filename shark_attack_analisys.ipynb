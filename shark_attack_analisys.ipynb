{
 "cells": [
  {
   "cell_type": "markdown",
   "id": "associate-labor",
   "metadata": {},
   "source": [
    "# Shark Attacks analisys "
   ]
  },
  {
   "cell_type": "code",
   "execution_count": 1,
   "id": "isolated-tunisia",
   "metadata": {},
   "outputs": [
    {
     "name": "stdout",
     "output_type": "stream",
     "text": [
      "Criando_Repositorio.pdf\n",
      "\u001b[34mWeek_1\u001b[m\u001b[m/\n",
      "\u001b[34mWeek_2\u001b[m\u001b[m/\n",
      "\u001b[34mWeek_3\u001b[m\u001b[m/\n",
      "\u001b[34mWeek_4\u001b[m\u001b[m/\n",
      "\u001b[34mWeek_5\u001b[m\u001b[m/\n",
      "\u001b[34mWeek_6\u001b[m\u001b[m/\n",
      "\u001b[34mWeek_7\u001b[m\u001b[m/\n",
      "attacks.csv\n",
      "beginners_python_cheat_sheet_pcc_all.pdf\n",
      "\u001b[34mdata-prework-master\u001b[m\u001b[m/\n",
      "\u001b[34mironhack-assets-main\u001b[m\u001b[m/\n",
      "shark_attack_analisys.ipynb\n"
     ]
    }
   ],
   "source": [
    "ls"
   ]
  },
  {
   "cell_type": "code",
   "execution_count": 4,
   "id": "enabling-portland",
   "metadata": {},
   "outputs": [],
   "source": [
    "import pandas as pd\n",
    "import re\n",
    "import numpy as np"
   ]
  },
  {
   "cell_type": "code",
   "execution_count": 21,
   "id": "educated-driving",
   "metadata": {},
   "outputs": [],
   "source": [
    "df = pd.read_csv('/Users/tiemi/Documents/Ironhack/attacks.csv', ',')"
   ]
  },
  {
   "cell_type": "markdown",
   "id": "computational-howard",
   "metadata": {},
   "source": [
    "## Data Cleaning"
   ]
  },
  {
   "cell_type": "code",
   "execution_count": 17,
   "id": "dimensional-coaching",
   "metadata": {},
   "outputs": [
    {
     "data": {
      "text/plain": [
       "Index(['Case Number', 'Date', 'Year', 'Type', 'Country', 'Area', 'Location',\n",
       "       'Activity', 'Name', 'Sex ', 'Age', 'Injury', 'Fatal (Y/N)', 'Time',\n",
       "       'Species ', 'Investigator or Source', 'pdf', 'href formula', 'href',\n",
       "       'Case Number.1', 'Case Number.2', 'original order', 'Unnamed: 22',\n",
       "       'Unnamed: 23'],\n",
       "      dtype='object')"
      ]
     },
     "execution_count": 17,
     "metadata": {},
     "output_type": "execute_result"
    }
   ],
   "source": [
    "df.columns"
   ]
  },
  {
   "cell_type": "code",
   "execution_count": 22,
   "id": "vanilla-error",
   "metadata": {},
   "outputs": [],
   "source": [
    "list1=['Year', 'Country']"
   ]
  },
  {
   "cell_type": "code",
   "execution_count": 23,
   "id": "binding-preview",
   "metadata": {},
   "outputs": [],
   "source": [
    "df=df[list1]"
   ]
  },
  {
   "cell_type": "code",
   "execution_count": 15,
   "id": "accurate-collar",
   "metadata": {},
   "outputs": [],
   "source": [
    "df=df.dropna()"
   ]
  },
  {
   "cell_type": "code",
   "execution_count": 14,
   "id": "fundamental-singles",
   "metadata": {},
   "outputs": [],
   "source": [
    "df=df.drop(df.Year[0.0])"
   ]
  },
  {
   "cell_type": "code",
   "execution_count": 24,
   "id": "aerial-recorder",
   "metadata": {},
   "outputs": [
    {
     "data": {
      "text/plain": [
       "51446"
      ]
     },
     "execution_count": 24,
     "metadata": {},
     "output_type": "execute_result"
    }
   ],
   "source": [
    "df.size"
   ]
  },
  {
   "cell_type": "code",
   "execution_count": 10,
   "id": "capital-invasion",
   "metadata": {},
   "outputs": [],
   "source": [
    "df.sort_values('Year', inplace=True)"
   ]
  },
  {
   "cell_type": "code",
   "execution_count": 25,
   "id": "undefined-america",
   "metadata": {},
   "outputs": [
    {
     "data": {
      "text/html": [
       "<div>\n",
       "<style scoped>\n",
       "    .dataframe tbody tr th:only-of-type {\n",
       "        vertical-align: middle;\n",
       "    }\n",
       "\n",
       "    .dataframe tbody tr th {\n",
       "        vertical-align: top;\n",
       "    }\n",
       "\n",
       "    .dataframe thead th {\n",
       "        text-align: right;\n",
       "    }\n",
       "</style>\n",
       "<table border=\"1\" class=\"dataframe\">\n",
       "  <thead>\n",
       "    <tr style=\"text-align: right;\">\n",
       "      <th></th>\n",
       "      <th>Year</th>\n",
       "    </tr>\n",
       "  </thead>\n",
       "  <tbody>\n",
       "    <tr>\n",
       "      <th>count</th>\n",
       "      <td>6300.000000</td>\n",
       "    </tr>\n",
       "    <tr>\n",
       "      <th>mean</th>\n",
       "      <td>1927.272381</td>\n",
       "    </tr>\n",
       "    <tr>\n",
       "      <th>std</th>\n",
       "      <td>281.116308</td>\n",
       "    </tr>\n",
       "    <tr>\n",
       "      <th>min</th>\n",
       "      <td>0.000000</td>\n",
       "    </tr>\n",
       "    <tr>\n",
       "      <th>25%</th>\n",
       "      <td>1942.000000</td>\n",
       "    </tr>\n",
       "    <tr>\n",
       "      <th>50%</th>\n",
       "      <td>1977.000000</td>\n",
       "    </tr>\n",
       "    <tr>\n",
       "      <th>75%</th>\n",
       "      <td>2005.000000</td>\n",
       "    </tr>\n",
       "    <tr>\n",
       "      <th>max</th>\n",
       "      <td>2018.000000</td>\n",
       "    </tr>\n",
       "  </tbody>\n",
       "</table>\n",
       "</div>"
      ],
      "text/plain": [
       "              Year\n",
       "count  6300.000000\n",
       "mean   1927.272381\n",
       "std     281.116308\n",
       "min       0.000000\n",
       "25%    1942.000000\n",
       "50%    1977.000000\n",
       "75%    2005.000000\n",
       "max    2018.000000"
      ]
     },
     "execution_count": 25,
     "metadata": {},
     "output_type": "execute_result"
    }
   ],
   "source": [
    "df.describe()"
   ]
  },
  {
   "cell_type": "code",
   "execution_count": 27,
   "id": "attached-legend",
   "metadata": {},
   "outputs": [
    {
     "data": {
      "text/html": [
       "<div>\n",
       "<style scoped>\n",
       "    .dataframe tbody tr th:only-of-type {\n",
       "        vertical-align: middle;\n",
       "    }\n",
       "\n",
       "    .dataframe tbody tr th {\n",
       "        vertical-align: top;\n",
       "    }\n",
       "\n",
       "    .dataframe thead th {\n",
       "        text-align: right;\n",
       "    }\n",
       "</style>\n",
       "<table border=\"1\" class=\"dataframe\">\n",
       "  <thead>\n",
       "    <tr style=\"text-align: right;\">\n",
       "      <th></th>\n",
       "      <th>Year</th>\n",
       "      <th>Country</th>\n",
       "    </tr>\n",
       "  </thead>\n",
       "  <tbody>\n",
       "    <tr>\n",
       "      <th>0</th>\n",
       "      <td>2018.0</td>\n",
       "      <td>USA</td>\n",
       "    </tr>\n",
       "    <tr>\n",
       "      <th>1</th>\n",
       "      <td>2018.0</td>\n",
       "      <td>USA</td>\n",
       "    </tr>\n",
       "    <tr>\n",
       "      <th>2</th>\n",
       "      <td>2018.0</td>\n",
       "      <td>USA</td>\n",
       "    </tr>\n",
       "    <tr>\n",
       "      <th>3</th>\n",
       "      <td>2018.0</td>\n",
       "      <td>AUSTRALIA</td>\n",
       "    </tr>\n",
       "    <tr>\n",
       "      <th>4</th>\n",
       "      <td>2018.0</td>\n",
       "      <td>MEXICO</td>\n",
       "    </tr>\n",
       "    <tr>\n",
       "      <th>5</th>\n",
       "      <td>2018.0</td>\n",
       "      <td>AUSTRALIA</td>\n",
       "    </tr>\n",
       "    <tr>\n",
       "      <th>6</th>\n",
       "      <td>2018.0</td>\n",
       "      <td>BRAZIL</td>\n",
       "    </tr>\n",
       "    <tr>\n",
       "      <th>7</th>\n",
       "      <td>2018.0</td>\n",
       "      <td>USA</td>\n",
       "    </tr>\n",
       "    <tr>\n",
       "      <th>8</th>\n",
       "      <td>2018.0</td>\n",
       "      <td>USA</td>\n",
       "    </tr>\n",
       "    <tr>\n",
       "      <th>9</th>\n",
       "      <td>2018.0</td>\n",
       "      <td>USA</td>\n",
       "    </tr>\n",
       "    <tr>\n",
       "      <th>10</th>\n",
       "      <td>2018.0</td>\n",
       "      <td>AUSTRALIA</td>\n",
       "    </tr>\n",
       "    <tr>\n",
       "      <th>11</th>\n",
       "      <td>2018.0</td>\n",
       "      <td>USA</td>\n",
       "    </tr>\n",
       "    <tr>\n",
       "      <th>12</th>\n",
       "      <td>2018.0</td>\n",
       "      <td>USA</td>\n",
       "    </tr>\n",
       "    <tr>\n",
       "      <th>13</th>\n",
       "      <td>2018.0</td>\n",
       "      <td>ENGLAND</td>\n",
       "    </tr>\n",
       "    <tr>\n",
       "      <th>14</th>\n",
       "      <td>2018.0</td>\n",
       "      <td>AUSTRALIA</td>\n",
       "    </tr>\n",
       "    <tr>\n",
       "      <th>15</th>\n",
       "      <td>2018.0</td>\n",
       "      <td>SOUTH AFRICA</td>\n",
       "    </tr>\n",
       "    <tr>\n",
       "      <th>16</th>\n",
       "      <td>2018.0</td>\n",
       "      <td>AUSTRALIA</td>\n",
       "    </tr>\n",
       "    <tr>\n",
       "      <th>17</th>\n",
       "      <td>2018.0</td>\n",
       "      <td>THAILAND</td>\n",
       "    </tr>\n",
       "    <tr>\n",
       "      <th>18</th>\n",
       "      <td>2018.0</td>\n",
       "      <td>COSTA RICA</td>\n",
       "    </tr>\n",
       "    <tr>\n",
       "      <th>19</th>\n",
       "      <td>2018.0</td>\n",
       "      <td>AUSTRALIA</td>\n",
       "    </tr>\n",
       "  </tbody>\n",
       "</table>\n",
       "</div>"
      ],
      "text/plain": [
       "      Year       Country\n",
       "0   2018.0           USA\n",
       "1   2018.0           USA\n",
       "2   2018.0           USA\n",
       "3   2018.0     AUSTRALIA\n",
       "4   2018.0        MEXICO\n",
       "5   2018.0     AUSTRALIA\n",
       "6   2018.0        BRAZIL\n",
       "7   2018.0           USA\n",
       "8   2018.0           USA\n",
       "9   2018.0           USA\n",
       "10  2018.0     AUSTRALIA\n",
       "11  2018.0           USA\n",
       "12  2018.0           USA\n",
       "13  2018.0       ENGLAND\n",
       "14  2018.0     AUSTRALIA\n",
       "15  2018.0  SOUTH AFRICA\n",
       "16  2018.0     AUSTRALIA\n",
       "17  2018.0      THAILAND\n",
       "18  2018.0    COSTA RICA\n",
       "19  2018.0     AUSTRALIA"
      ]
     },
     "execution_count": 27,
     "metadata": {},
     "output_type": "execute_result"
    }
   ],
   "source": [
    "df.head(20)"
   ]
  },
  {
   "cell_type": "code",
   "execution_count": null,
   "id": "compliant-court",
   "metadata": {},
   "outputs": [],
   "source": []
  },
  {
   "cell_type": "markdown",
   "id": "prescribed-acting",
   "metadata": {},
   "source": [
    "## Número de casos nos anos 97 e 98"
   ]
  },
  {
   "cell_type": "code",
   "execution_count": 12,
   "id": "interpreted-secretariat",
   "metadata": {},
   "outputs": [
    {
     "data": {
      "text/plain": [
       "57"
      ]
     },
     "execution_count": 12,
     "metadata": {},
     "output_type": "execute_result"
    }
   ],
   "source": [
    "\n",
    "year=list()\n",
    "\n",
    "for item in df.Year:\n",
    "    if item==1997.0:\n",
    "        year.append(item)\n",
    "    elif item==1998.00:\n",
    "        year.append(item)\n",
    "    \n",
    "year.count(1997.0)"
   ]
  },
  {
   "cell_type": "code",
   "execution_count": 203,
   "id": "three-status",
   "metadata": {},
   "outputs": [
    {
     "data": {
      "text/plain": [
       "38"
      ]
     },
     "execution_count": 203,
     "metadata": {},
     "output_type": "execute_result"
    }
   ],
   "source": [
    "year.count(1998.0)"
   ]
  },
  {
   "cell_type": "markdown",
   "id": "numerous-banana",
   "metadata": {},
   "source": [
    " Temos 36 casos de ataques no ano de 1997 e 38 em 1998.\n",
    " \n",
    " Total de 74 ataques no durante o EL nino."
   ]
  },
  {
   "cell_type": "markdown",
   "id": "contained-canberra",
   "metadata": {},
   "source": [
    "## Número de casos nos anos 99 e 2000"
   ]
  },
  {
   "cell_type": "code",
   "execution_count": 198,
   "id": "neural-genre",
   "metadata": {},
   "outputs": [
    {
     "name": "stdout",
     "output_type": "stream",
     "text": [
      "50\n",
      "64\n"
     ]
    }
   ],
   "source": [
    "year=list()\n",
    "\n",
    "for item in df.Year:\n",
    "    if item==1999.0:\n",
    "        year.append(item)\n",
    "    elif item==2000.00:\n",
    "        year.append(item)\n",
    "    \n",
    "print(year.count(1999.0))\n",
    "print(year.count(2000.0))"
   ]
  },
  {
   "cell_type": "markdown",
   "id": "unlikely-johnson",
   "metadata": {},
   "source": [
    "Total de 114 casos nos dois anos seguintes."
   ]
  },
  {
   "cell_type": "code",
   "execution_count": 195,
   "id": "positive-reaction",
   "metadata": {},
   "outputs": [
    {
     "data": {
      "text/html": [
       "<div>\n",
       "<style scoped>\n",
       "    .dataframe tbody tr th:only-of-type {\n",
       "        vertical-align: middle;\n",
       "    }\n",
       "\n",
       "    .dataframe tbody tr th {\n",
       "        vertical-align: top;\n",
       "    }\n",
       "\n",
       "    .dataframe thead th {\n",
       "        text-align: right;\n",
       "    }\n",
       "</style>\n",
       "<table border=\"1\" class=\"dataframe\">\n",
       "  <thead>\n",
       "    <tr style=\"text-align: right;\">\n",
       "      <th></th>\n",
       "      <th>Year</th>\n",
       "      <th>Country</th>\n",
       "    </tr>\n",
       "  </thead>\n",
       "  <tbody>\n",
       "    <tr>\n",
       "      <th>6296</th>\n",
       "      <td>0.0</td>\n",
       "      <td>AUSTRALIA</td>\n",
       "    </tr>\n",
       "    <tr>\n",
       "      <th>6294</th>\n",
       "      <td>0.0</td>\n",
       "      <td>AUSTRALIA</td>\n",
       "    </tr>\n",
       "    <tr>\n",
       "      <th>6276</th>\n",
       "      <td>0.0</td>\n",
       "      <td>BELIZE</td>\n",
       "    </tr>\n",
       "    <tr>\n",
       "      <th>6274</th>\n",
       "      <td>0.0</td>\n",
       "      <td>ITALY</td>\n",
       "    </tr>\n",
       "    <tr>\n",
       "      <th>6267</th>\n",
       "      <td>0.0</td>\n",
       "      <td>SAUDI ARABIA</td>\n",
       "    </tr>\n",
       "  </tbody>\n",
       "</table>\n",
       "</div>"
      ],
      "text/plain": [
       "      Year       Country\n",
       "6296   0.0     AUSTRALIA\n",
       "6294   0.0     AUSTRALIA\n",
       "6276   0.0        BELIZE\n",
       "6274   0.0         ITALY\n",
       "6267   0.0  SAUDI ARABIA"
      ]
     },
     "execution_count": 195,
     "metadata": {},
     "output_type": "execute_result"
    }
   ],
   "source": [
    "df.head()"
   ]
  },
  {
   "cell_type": "code",
   "execution_count": null,
   "id": "noticed-pharmaceutical",
   "metadata": {},
   "outputs": [],
   "source": []
  },
  {
   "cell_type": "code",
   "execution_count": 152,
   "id": "operational-stanford",
   "metadata": {},
   "outputs": [],
   "source": [
    "## Procurar por paises\n",
    "\n",
    "paises=list()\n",
    "\n",
    "\n",
    "for country in df.Country:\n",
    "    if country == 'USA':\n",
    "        paises.append(country)"
   ]
  },
  {
   "cell_type": "code",
   "execution_count": 159,
   "id": "adequate-abraham",
   "metadata": {},
   "outputs": [
    {
     "data": {
      "text/plain": [
       "1323"
      ]
     },
     "execution_count": 159,
     "metadata": {},
     "output_type": "execute_result"
    }
   ],
   "source": [
    "paises.count('USA')"
   ]
  },
  {
   "cell_type": "code",
   "execution_count": null,
   "id": "streaming-gather",
   "metadata": {},
   "outputs": [],
   "source": []
  }
 ],
 "metadata": {
  "kernelspec": {
   "display_name": "Python 3",
   "language": "python",
   "name": "python3"
  },
  "language_info": {
   "codemirror_mode": {
    "name": "ipython",
    "version": 3
   },
   "file_extension": ".py",
   "mimetype": "text/x-python",
   "name": "python",
   "nbconvert_exporter": "python",
   "pygments_lexer": "ipython3",
   "version": "3.9.1"
  }
 },
 "nbformat": 4,
 "nbformat_minor": 5
}
